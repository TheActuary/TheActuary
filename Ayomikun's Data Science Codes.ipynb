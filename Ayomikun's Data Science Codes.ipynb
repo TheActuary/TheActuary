{
 "cells": [
  {
   "cell_type": "markdown",
   "id": "ee07207a",
   "metadata": {},
   "source": [
    "# For Data Checking\n"
   ]
  },
  {
   "cell_type": "markdown",
   "id": "097dce82",
   "metadata": {},
   "source": [
    "For Reading Data"
   ]
  },
  {
   "cell_type": "code",
   "execution_count": null,
   "id": "c59a195b",
   "metadata": {},
   "outputs": [],
   "source": [
    "df = pd.read_csv(filepath)\n",
    "df = pd.read_csv(other_path, header=None) '''if no headers are there'''\n",
    "df = pd.read_csv('auto.csv', names = headers) '''if you want to set your headers while importing data'''"
   ]
  },
  {
   "cell_type": "markdown",
   "id": "46bdc5bf",
   "metadata": {},
   "source": [
    "For Setting Values to Pandas Columns or Checking Them"
   ]
  },
  {
   "cell_type": "code",
   "execution_count": null,
   "id": "c873d8d0",
   "metadata": {},
   "outputs": [],
   "source": [
    "df.columns = headers '''where headers is the variable containing the list of column names'''\n",
    "print (df.columns) '''to call the columns'''\n",
    "df.rename(columns={'old name':'new name', 'old name':'new name'}, inplace=True)"
   ]
  },
  {
   "cell_type": "markdown",
   "id": "c942026c",
   "metadata": {},
   "source": [
    "To Join a Column or Columns to a Dataframe"
   ]
  },
  {
   "cell_type": "code",
   "execution_count": null,
   "id": "6441df7b",
   "metadata": {},
   "outputs": [],
   "source": [
    "df = pd.concat([df, the_column], axis=1)"
   ]
  },
  {
   "cell_type": "markdown",
   "id": "37be3030",
   "metadata": {},
   "source": [
    "To Save Datasets"
   ]
  },
  {
   "cell_type": "code",
   "execution_count": 1,
   "id": "44d0fc2f",
   "metadata": {},
   "outputs": [],
   "source": [
    "df.to_csv(path) '''path has to be a path in the computer'''\n",
    "df.to_csv(path, index=False) '''use index = False to avoid saving the row indexes to csv file'''\n",
    "df.to_csv('clean_df.csv') '''to save dataset to jupyter homepage'''"
   ]
  },
  {
   "cell_type": "markdown",
   "id": "0ebe0eea",
   "metadata": {},
   "source": [
    "To Check Dataset Qualities"
   ]
  },
  {
   "cell_type": "code",
   "execution_count": null,
   "id": "420fff6c",
   "metadata": {},
   "outputs": [],
   "source": [
    "df.dtypes\n",
    "df.describe()\n",
    "df.describe(include = \"all\") '''to include the NaN columns(strings)'''\n",
    "df[[' column 1 ',column 2', 'column 3'] ].describe() '''to get statistics for certain columns'''\n",
    "df.info() '''gets the column data types and also displays the amount of non-null values in columns'''"
   ]
  },
  {
   "cell_type": "markdown",
   "id": "1cba2df3",
   "metadata": {},
   "source": [
    "# For Data Wrangling\n"
   ]
  },
  {
   "cell_type": "markdown",
   "id": "6f7ad241",
   "metadata": {},
   "source": [
    "To Replace Missing Values from ? to NaN"
   ]
  },
  {
   "cell_type": "code",
   "execution_count": null,
   "id": "c5f7ec91",
   "metadata": {},
   "outputs": [],
   "source": [
    "import numpy as np\n",
    "df.replace(\"?\", np.nan, inplace = True) '''Note that Numpy first has to be imported'''"
   ]
  },
  {
   "cell_type": "markdown",
   "id": "c0cbf972",
   "metadata": {},
   "source": [
    "To Check Missing Data in Individual Columns"
   ]
  },
  {
   "cell_type": "code",
   "execution_count": null,
   "id": "e52833e7",
   "metadata": {},
   "outputs": [],
   "source": [
    "missing_data = df.isnull()\n",
    "for column in missing_data.columns.values.tolist():\n",
    "    print(column)\n",
    "    print (missing_data[column].value_counts())\n",
    "    print(\"\")    \n",
    "    \n",
    "'''True indicates missing values and False indicates non-missing values'''"
   ]
  },
  {
   "cell_type": "markdown",
   "id": "c676601f",
   "metadata": {},
   "source": [
    "For Replacing Missing Values With Average"
   ]
  },
  {
   "cell_type": "code",
   "execution_count": null,
   "id": "693e9671",
   "metadata": {},
   "outputs": [],
   "source": [
    "the_average = df[\"column\"].astype(\"float\").mean(axis=0)\n",
    "df[\"column\"].replace(np.nan, the_average, inplace=True)\n",
    "\n",
    "'''astype('float') can be removed if the data type doesnt have to be converted to float'''"
   ]
  },
  {
   "cell_type": "markdown",
   "id": "47aad89c",
   "metadata": {},
   "source": [
    "To Replace with Highest Frequency"
   ]
  },
  {
   "cell_type": "code",
   "execution_count": null,
   "id": "6fe9e20e",
   "metadata": {},
   "outputs": [],
   "source": [
    "df['column'].value_counts() \n",
    "df[\"column\"].replace(np.nan, \"mostfrequentvalue\", inplace=True)\n",
    "\n",
    "'''value counts shows the unique values. Then the most frequent can be picked to replace the null values'''"
   ]
  },
  {
   "cell_type": "markdown",
   "id": "14f340b1",
   "metadata": {},
   "source": [
    "To Drop Entire Rows and Reset Index"
   ]
  },
  {
   "cell_type": "code",
   "execution_count": null,
   "id": "fb4b6129",
   "metadata": {},
   "outputs": [],
   "source": [
    "df.dropna(subset=[\"column\"], axis=0, inplace=True)\n",
    "df.reset_index(drop=True, inplace=True)\n",
    "\n",
    "'''index is reset because the whole thing gets scrambled after dropping rows'''"
   ]
  },
  {
   "cell_type": "markdown",
   "id": "6925c730",
   "metadata": {},
   "source": [
    "Changing Data Types for Columns"
   ]
  },
  {
   "cell_type": "code",
   "execution_count": null,
   "id": "2dab58e9",
   "metadata": {},
   "outputs": [],
   "source": [
    "df[[\"column\"]] = df[[\"column\"]].astype(\"float\")\n",
    "\n",
    "'''for a single column'''\n",
    "\n",
    "df[[\"column1\", \"column2\"]] = df[[\"column1\", \"column2\"]].astype(\"int\")\n",
    "\n",
    "'''for multiple columns'''"
   ]
  },
  {
   "cell_type": "markdown",
   "id": "bfe38100",
   "metadata": {},
   "source": [
    "Adding Column with Changes to Another Existing Column"
   ]
  },
  {
   "cell_type": "code",
   "execution_count": null,
   "id": "fc9b31ff",
   "metadata": {},
   "outputs": [],
   "source": [
    "df['city-L/100km'] = 235/df[\"city-mpg\"]"
   ]
  },
  {
   "cell_type": "markdown",
   "id": "6f9da51f",
   "metadata": {},
   "source": [
    "Data Normalization"
   ]
  },
  {
   "cell_type": "code",
   "execution_count": null,
   "id": "e02577da",
   "metadata": {},
   "outputs": [],
   "source": [
    "df['column'] = df['column']/df['column'].max()\n",
    "\n",
    "'''this is the simple feature scaling method'''"
   ]
  },
  {
   "cell_type": "markdown",
   "id": "21d26972",
   "metadata": {},
   "source": [
    "Data Binning"
   ]
  },
  {
   "cell_type": "code",
   "execution_count": null,
   "id": "8e42cfb9",
   "metadata": {},
   "outputs": [],
   "source": [
    "bins = np.linspace(min(df[\"horsepower\"]), max(df[\"horsepower\"]), 4)\n",
    "group_names = ['Low', 'Medium', 'High']\n",
    "df['horsepower-binned'] = pd.cut(df['horsepower'], bins, labels=group_names, include_lowest=True )\n",
    "\n",
    "df[\"horsepower-binned\"].value_counts()\n",
    "'''value counts is optional'''"
   ]
  },
  {
   "cell_type": "markdown",
   "id": "3b0bd99f",
   "metadata": {},
   "source": [
    "Get Dummies for a Particular Column"
   ]
  },
  {
   "cell_type": "code",
   "execution_count": null,
   "id": "8e86b883",
   "metadata": {},
   "outputs": [],
   "source": [
    "dummy_variable_1 = pd.get_dummies(df[\"fuel-type\"])\n",
    "\n",
    "'''you can then use the join a column code to join the dummy columns'''"
   ]
  },
  {
   "cell_type": "markdown",
   "id": "11fd3c31",
   "metadata": {},
   "source": [
    "# For Exploratory Data Analysis"
   ]
  },
  {
   "cell_type": "markdown",
   "id": "fe5ec73a",
   "metadata": {},
   "source": [
    "Getting Correlation for all Features in the DataFrame"
   ]
  },
  {
   "cell_type": "code",
   "execution_count": null,
   "id": "cc4ebf54",
   "metadata": {},
   "outputs": [],
   "source": [
    "df.corr()\n",
    "\n",
    "df[['bore','stroke','compression-ratio','horsepower']].corr() '''for certain features'''"
   ]
  },
  {
   "cell_type": "markdown",
   "id": "c2e08462",
   "metadata": {},
   "source": [
    "To plot Regression for X(feature) and Y(target) variables"
   ]
  },
  {
   "cell_type": "code",
   "execution_count": null,
   "id": "5f6844c6",
   "metadata": {},
   "outputs": [],
   "source": [
    "sns.regplot(x=\"engine-size\", y=\"price\", data=df)\n",
    "plt.ylim(0,) '''plt.ylim makes it look better if the data range starts from 0'''"
   ]
  },
  {
   "cell_type": "markdown",
   "id": "66163f28",
   "metadata": {},
   "source": [
    "To plot Boxplots for Categorical Variables and Target Variable"
   ]
  },
  {
   "cell_type": "code",
   "execution_count": null,
   "id": "5d57fcd5",
   "metadata": {},
   "outputs": [],
   "source": [
    "sns.boxplot(x=\"body-style\", y=\"price\", data=df)"
   ]
  },
  {
   "cell_type": "markdown",
   "id": "b1d407cd",
   "metadata": {},
   "source": [
    "To get Statistics for Only Categorical Variables"
   ]
  },
  {
   "cell_type": "code",
   "execution_count": null,
   "id": "a1e7b580",
   "metadata": {},
   "outputs": [],
   "source": [
    "df.describe(include=['object']) "
   ]
  },
  {
   "cell_type": "markdown",
   "id": "32fb3b3b",
   "metadata": {},
   "source": [
    "To get Unique Values for Categorical Columns"
   ]
  },
  {
   "cell_type": "code",
   "execution_count": null,
   "id": "8df6eda9",
   "metadata": {},
   "outputs": [],
   "source": [
    "df['drive-wheels'].value_counts().to_frame()\n",
    "\n",
    "'''note that value counts work on Pandas series not dataframe, hence the single bracket'''"
   ]
  },
  {
   "cell_type": "markdown",
   "id": "4a616bf2",
   "metadata": {},
   "source": [
    "To Create Pivot Tables"
   ]
  },
  {
   "cell_type": "code",
   "execution_count": 2,
   "id": "2e9a9b3e",
   "metadata": {},
   "outputs": [],
   "source": [
    "df_gptest = df[['drive-wheels','body-style','price']]\n",
    "grouped_test1 = df_gptest.groupby(['drive-wheels','body-style'],as_index=False).mean()\n",
    "\n",
    "'''this gets the average for the categorical variables'''\n",
    "\n",
    "grouped_pivot = grouped_test1.pivot(index='drive-wheels',columns='body-style')\n",
    "grouped_pivot\n",
    "\n",
    "'''Converts the table to a pivot. Index is for rows and columns is for columns'''\n",
    "\n",
    "\n",
    "grouped_pivot = grouped_pivot.fillna(0)\n",
    "\n",
    "'''fill NaN values with 0'''"
   ]
  },
  {
   "cell_type": "markdown",
   "id": "248eff8d",
   "metadata": {},
   "source": [
    "To Calculate P-Value Between X and Y Variables"
   ]
  },
  {
   "cell_type": "code",
   "execution_count": null,
   "id": "05c9ec35",
   "metadata": {},
   "outputs": [],
   "source": [
    "from scipy import stats\n",
    "pearson_coef, p_value = stats.pearsonr(df['wheel-base'], df['price'])\n",
    "print(\"The Pearson Correlation Coefficient is\", pearson_coef, \" with a P-value of P =\", p_value)  "
   ]
  },
  {
   "cell_type": "markdown",
   "id": "f0bafbca",
   "metadata": {},
   "source": [
    "# For Model Development"
   ]
  },
  {
   "cell_type": "markdown",
   "id": "698017af",
   "metadata": {},
   "source": [
    "Importing Linear Regression Model"
   ]
  },
  {
   "cell_type": "code",
   "execution_count": null,
   "id": "da4a848b",
   "metadata": {},
   "outputs": [],
   "source": [
    "from sklearn.linear_model import LinearRegression"
   ]
  },
  {
   "cell_type": "markdown",
   "id": "64313ec4",
   "metadata": {},
   "source": [
    "Creating a Linear Regression Object and a Model"
   ]
  },
  {
   "cell_type": "code",
   "execution_count": null,
   "id": "bbaee96e",
   "metadata": {},
   "outputs": [],
   "source": [
    "lm = LinearRegression()\n",
    "X = df[['highway-mpg']]\n",
    "Y = df['price']\n",
    "lm.fit(X,Y)\n",
    "\n",
    "'''for simple linear regression models'''\n",
    "\n",
    "Z = df[['horsepower', 'curb-weight', 'engine-size', 'highway-mpg']]\n",
    "lm.fit(Z, df['price'])\n",
    "\n",
    "'''for multiple linear regression models'''"
   ]
  },
  {
   "cell_type": "markdown",
   "id": "c3119fa9",
   "metadata": {},
   "source": [
    "Predicting Values on a Model"
   ]
  },
  {
   "cell_type": "code",
   "execution_count": null,
   "id": "24ba639e",
   "metadata": {},
   "outputs": [],
   "source": [
    "Yhat=lm.predict(X)\n",
    "Yhat[0:5] "
   ]
  },
  {
   "cell_type": "markdown",
   "id": "deec3cad",
   "metadata": {},
   "source": [
    "Getting the Intercept, Slope, and Score"
   ]
  },
  {
   "cell_type": "code",
   "execution_count": null,
   "id": "cb9e4025",
   "metadata": {},
   "outputs": [],
   "source": [
    "lm.intercept_\n",
    "lm.coef_\n",
    "lm.score (x,y)"
   ]
  },
  {
   "cell_type": "markdown",
   "id": "548c3ea7",
   "metadata": {},
   "source": [
    "To Visualize a Multiple Linear Regression Model"
   ]
  },
  {
   "cell_type": "code",
   "execution_count": null,
   "id": "e9295c01",
   "metadata": {},
   "outputs": [],
   "source": [
    "import seaborn as sns\n",
    "%matplotlib inline \n",
    "\n",
    "\n",
    "plt.figure(figsize=(width, height))\n",
    "\n",
    "\n",
    "ax1 = sns.distplot(df['price'], hist=False, color=\"r\", label=\"Actual Value\")\n",
    "sns.distplot(Y_hat, hist=False, color=\"b\", label=\"Fitted Values\" , ax=ax1)\n",
    "\n",
    "\n",
    "plt.title('Actual vs Fitted Values for Price')\n",
    "plt.xlabel('Price (in dollars)')\n",
    "plt.ylabel('Proportion of Cars')\n",
    "\n",
    "plt.show()\n",
    "plt.close()\n",
    "\n",
    "\n",
    "'''to plot distribution plot for MLR'''"
   ]
  },
  {
   "cell_type": "markdown",
   "id": "2d146bbe",
   "metadata": {},
   "source": [
    "To Create a Polynomial Regression Model"
   ]
  },
  {
   "cell_type": "code",
   "execution_count": null,
   "id": "35a5bf33",
   "metadata": {},
   "outputs": [],
   "source": [
    "from sklearn.pipeline import Pipeline\n",
    "from sklearn.preprocessing import StandardScaler\n",
    "\n",
    "Input=[('scale',StandardScaler()), ('polynomial', PolynomialFeatures(include_bias=False)), ('model',LinearRegression())]\n",
    "pipe=Pipeline(Input)\n",
    "\n",
    "pipe.fit(Z,y)\n",
    "\n",
    "ypipe=pipe.predict(Z)\n",
    "ypipe[0:5]"
   ]
  },
  {
   "cell_type": "markdown",
   "id": "f740aba1",
   "metadata": {},
   "source": [
    "To Visualize a Polynomial Regressional Model"
   ]
  },
  {
   "cell_type": "code",
   "execution_count": null,
   "id": "e919fc27",
   "metadata": {},
   "outputs": [],
   "source": [
    "def PlotPolly(model, independent_variable, dependent_variabble, Name):\n",
    "    x_new = np.linspace(15, 55, 100)\n",
    "    y_new = model(x_new)\n",
    "\n",
    "    plt.plot(independent_variable, dependent_variabble, '.', x_new, y_new, '-')\n",
    "    plt.title('Polynomial Fit with Matplotlib for Price ~ Length')\n",
    "    ax = plt.gca()\n",
    "    ax.set_facecolor((0.898, 0.898, 0.898))\n",
    "    fig = plt.gcf()\n",
    "    plt.xlabel(Name)\n",
    "    plt.ylabel('Price of Cars')\n",
    "\n",
    "    plt.show()\n",
    "    plt.close()\n",
    "    \n",
    "    '''Note that the name argument in the function is the label for the x axis. The model is the polynomial model variable'''"
   ]
  },
  {
   "cell_type": "markdown",
   "id": "348ac454",
   "metadata": {},
   "source": [
    "To Get Mean Squared Error for Linear Regression Models"
   ]
  },
  {
   "cell_type": "code",
   "execution_count": null,
   "id": "ab5dd0f8",
   "metadata": {},
   "outputs": [],
   "source": [
    "from sklearn.metrics import mean_squared_error\n",
    "\n",
    "Yhat=lm.predict(X)\n",
    "mse = mean_squared_error(df['price'], Yhat)\n",
    "print('The mean square error of price and predicted value is: ', mse)"
   ]
  },
  {
   "cell_type": "markdown",
   "id": "0284fe05",
   "metadata": {},
   "source": [
    "# For Model Refinement"
   ]
  },
  {
   "cell_type": "markdown",
   "id": "4d2160ca",
   "metadata": {},
   "source": [
    "For Splitting Into Train and Test Data"
   ]
  },
  {
   "cell_type": "code",
   "execution_count": null,
   "id": "1c59c034",
   "metadata": {},
   "outputs": [],
   "source": [
    "from sklearn.model_selection import train_test_split\n",
    "\n",
    "\n",
    "x_train, x_test, y_train, y_test = train_test_split(x_data, y_data, test_size=0.10, random_state=1)\n",
    "\n",
    "from sklearn.linear_model import LinearRegression\n",
    "\n",
    "lre=LinearRegression()\n",
    "lre.fit(x_train[['horsepower']], y_train)\n",
    "lre.score(x_test[['horsepower']], y_test)\n",
    "\n",
    "'''model is saved to the lre object and used on the test data'''"
   ]
  },
  {
   "cell_type": "markdown",
   "id": "19866021",
   "metadata": {},
   "source": [
    "   ##         To understand this new Polynomial Regression Code better, you need to realize that the train and test features are first transformed to a Polynomial dimension. Then the Linear Regression Object is used to fit the transformed features to create a model\n",
    "             "
   ]
  },
  {
   "cell_type": "markdown",
   "id": "321441f2",
   "metadata": {},
   "source": [
    "Create Polynomial Regression Model Using xTrain and xTest Data"
   ]
  },
  {
   "cell_type": "code",
   "execution_count": null,
   "id": "5f497eb8",
   "metadata": {},
   "outputs": [],
   "source": [
    "pr = PolynomialFeatures(degree=5)\n",
    "x_train_pr = pr.fit_transform(x_train[['horsepower']])\n",
    "x_test_pr = pr.fit_transform(x_test[['horsepower']])\n",
    "\n",
    "poly = LinearRegression()\n",
    "poly.fit(x_train_pr, y_train)\n",
    "poly.score(x_train_pr, y_train)\n",
    "\n",
    "'''a great idea is to first see plot of best polynomial order before creating the model'''"
   ]
  },
  {
   "cell_type": "markdown",
   "id": "c6dd3e17",
   "metadata": {},
   "source": [
    "To See Plot of Best Polynomial Order with R^2"
   ]
  },
  {
   "cell_type": "code",
   "execution_count": null,
   "id": "46b8970b",
   "metadata": {},
   "outputs": [],
   "source": [
    "Rsqu_test = []\n",
    "\n",
    "order = [1, 2, 3, 4]\n",
    "for n in order:\n",
    "    pr = PolynomialFeatures(degree=n)\n",
    "    \n",
    "    x_train_pr = pr.fit_transform(x_train[['horsepower']])\n",
    "    \n",
    "    x_test_pr = pr.fit_transform(x_test[['horsepower']])    \n",
    "    \n",
    "    lr.fit(x_train_pr, y_train)\n",
    "    \n",
    "    Rsqu_test.append(lr.score(x_test_pr, y_test))\n",
    "\n",
    "plt.plot(order, Rsqu_test)\n",
    "plt.xlabel('order')\n",
    "plt.ylabel('R^2')\n",
    "plt.title('R^2 Using Test Data')\n",
    "plt.text(3, 0.75, 'Maximum R^2 ')    "
   ]
  },
  {
   "cell_type": "markdown",
   "id": "4013c19d",
   "metadata": {},
   "source": [
    "To Calculate Cross Validation Score"
   ]
  },
  {
   "cell_type": "code",
   "execution_count": null,
   "id": "48e80b5b",
   "metadata": {},
   "outputs": [],
   "source": [
    "from sklearn.model_selection import cross_val_score\n",
    "\n",
    "Rcross = cross_val_score(lre, x_data[['horsepower']], y_data, cv=4)\n",
    "print(\"The mean of the folds are\", Rcross.mean(), \"and the standard deviation is\" , Rcross.std())"
   ]
  },
  {
   "cell_type": "markdown",
   "id": "2abedd08",
   "metadata": {},
   "source": [
    "To Run a Grid Search and Get a Model"
   ]
  },
  {
   "cell_type": "code",
   "execution_count": null,
   "id": "3c20e30c",
   "metadata": {},
   "outputs": [],
   "source": [
    "from sklearn.model_selection import GridSearchCV\n",
    "from sklearn.linear_model import Ridge\n",
    "\n",
    "parameters1= [{'alpha': [0.001, 0.01, 0.1, 1, 10, 100, 1000, 10000, 100000, 100000]}]\n",
    "\n",
    "RR=Ridge()\n",
    "RR\n",
    "\n",
    "Grid1 = GridSearchCV(RR, parameters1,cv=4)\n",
    "Grid1.fit(x_data[['horsepower', 'curb-weight', 'engine-size', 'highway-mpg']], y_data)\n",
    "\n",
    "BestRR=Grid1.best_estimator_\n",
    "BestRR.score(x_test[['horsepower', 'curb-weight', 'engine-size', 'highway-mpg']], y_test)"
   ]
  }
 ],
 "metadata": {
  "kernelspec": {
   "display_name": "Python 3 (ipykernel)",
   "language": "python",
   "name": "python3"
  },
  "language_info": {
   "codemirror_mode": {
    "name": "ipython",
    "version": 3
   },
   "file_extension": ".py",
   "mimetype": "text/x-python",
   "name": "python",
   "nbconvert_exporter": "python",
   "pygments_lexer": "ipython3",
   "version": "3.9.12"
  }
 },
 "nbformat": 4,
 "nbformat_minor": 5
}
